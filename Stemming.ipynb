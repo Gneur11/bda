{
 "cells": [
  {
   "cell_type": "code",
   "execution_count": 3,
   "metadata": {},
   "outputs": [
    {
     "name": "stdout",
     "output_type": "stream",
     "text": [
      "[nltk_data] Downloading package punkt to\n",
      "[nltk_data]     C:\\Users\\Filippo\\AppData\\Roaming\\nltk_data...\n",
      "[nltk_data]   Package punkt is already up-to-date!\n",
      "[nltk_data] Downloading package stopwords to\n",
      "[nltk_data]     C:\\Users\\Filippo\\AppData\\Roaming\\nltk_data...\n",
      "[nltk_data]   Package stopwords is already up-to-date!\n",
      "[nltk_data] Downloading package averaged_perceptron_tagger to\n",
      "[nltk_data]     C:\\Users\\Filippo\\AppData\\Roaming\\nltk_data...\n",
      "[nltk_data]   Package averaged_perceptron_tagger is already up-to-\n",
      "[nltk_data]       date!\n"
     ]
    }
   ],
   "source": [
    "import pandas as pd\n",
    "import matplotlib.pyplot as plt\n",
    "import seaborn as sns\n",
    "import numpy as np\n",
    "import nltk\n",
    "import math\n",
    "from nltk import pos_tag, word_tokenize\n",
    "nltk.download('punkt')\n",
    "nltk.download('stopwords')\n",
    "nltk.download('averaged_perceptron_tagger')\n",
    "data = pd.read_csv(\"dataAfterPOS.csv\")"
   ]
  },
  {
   "cell_type": "code",
   "execution_count": 4,
   "metadata": {},
   "outputs": [],
   "source": [
    "from nltk.stem import PorterStemmer, WordNetLemmatizer\n",
    "stemmer = PorterStemmer()\n",
    "lemmatiser = WordNetLemmatizer()\n"
   ]
  },
  {
   "cell_type": "code",
   "execution_count": 11,
   "metadata": {},
   "outputs": [],
   "source": [
    "stemmedDataset = pd.DataFrame()\n",
    "stemmedDataset = data"
   ]
  },
  {
   "cell_type": "code",
   "execution_count": 21,
   "metadata": {},
   "outputs": [],
   "source": [
    "stemDescriptions = []\n",
    "for idx, row in stemmedDataset.iterrows():\n",
    "    desc = \"\"\n",
    "    for el in row[\"description\"].split():\n",
    "        desc = desc + stemmer.stem(el) + \" \"\n",
    "    stemDescriptions.append(desc)"
   ]
  },
  {
   "cell_type": "code",
   "execution_count": 22,
   "metadata": {},
   "outputs": [
    {
     "data": {
      "text/plain": [
       "'aroma tropic fruit broom brimston herb palat express unripen appl citru dri sage brisk acid '"
      ]
     },
     "execution_count": 22,
     "metadata": {},
     "output_type": "execute_result"
    }
   ],
   "source": [
    "stemDescriptions[0]"
   ]
  },
  {
   "cell_type": "code",
   "execution_count": 29,
   "metadata": {},
   "outputs": [
    {
     "data": {
      "text/plain": [
       "0         aroma tropic fruit broom brimston herb palat e...\n",
       "1         ripe fruiti wine firm tannin juici red berri f...\n",
       "2         tart snappi flavor lime flesh domin green pine...\n",
       "3         pineappl rind lemon pith orang blossom aroma p...\n",
       "4         much regular bottl rough tannic rustic earthi ...\n",
       "5         blackberri typic navarran whiff green herb cas...\n",
       "6         bright inform aroma candi berri white pepper s...\n",
       "7         dri restrain wine offer profus acid firm textu...\n",
       "8         savori thyme note accent sunnier flavor preser...\n",
       "9         great depth flavor fresh appl pear fruit touch...\n",
       "10        soft suppl plum oaki structur cabernet % merlo...\n",
       "11        dri wine spici tight taut textur miner charact...\n",
       "12        wine chalki tannic backbon otherwis juici expl...\n",
       "13        oak oak-driven aroma coffe bean espresso cocon...\n",
       "14        year gener tradit wineri leaner style classic ...\n",
       "15        zesti orang peel appl note mineral-ton riesl o...\n",
       "16        bake plum molass balsam vinegar cheesi oak pal...\n",
       "17        raw black-cherri aroma direct simpl good juici...\n",
       "18        blackberri leather wood mint aroma nose full-b...\n",
       "19        red fruit nose cigar box menthol note back pal...\n",
       "20        ripe aroma dark berri ampl note black pepper v...\n",
       "21        sleek mix tart berri stem herb hint oak chocol...\n",
       "22        delic aroma white flower citru palat offer pas...\n",
       "23        wine geneseo district offer sour plum cigar bo...\n",
       "24        aroma prune blackcurr toast oak extract palat ...\n",
       "25        oak earth intermingl robust aroma wet forest f...\n",
       "26        pretti aroma yellow flower stone fruit nose br...\n",
       "27        aroma recal ripe dark berri toast whiff cake s...\n",
       "28        aroma matur berri earth anim toast anis palat ...\n",
       "29        clarksburg haven chenin blanc california bottl...\n",
       "                                ...                        \n",
       "117622    true tba rich toffee-flavor intens sweet botry...\n",
       "117623    wineri bell whistl chardonnay inland fruit vin...\n",
       "117624    chardonnay unusu companion % sémillon floral f...\n",
       "117625    classic herbac aroma flavor rich juici blackbe...\n",
       "117626    blend nero d'avola syrah convey aroma scorch e...\n",
       "117627    more popular vineyard variet whole central coa...\n",
       "117628    plump clingi peach honey note streak lime deli...\n",
       "117629    blend % cabernet sauvignon % merlot % petit ve...\n",
       "117630    raspberri cassi aroma fresh upright wiri grass...\n",
       "117631    bone use oak wine month effect good barrel maj...\n",
       "117632    herbac dollop thyme fresh-dug earth glass juic...\n",
       "117633    spici rich wine sweet fact spice edg pepper ci...\n",
       "117634    zinfandel eastern section napa valley structur...\n",
       "117635    two-third cabernet one-third merlot medium-bod...\n",
       "117636    charact pinot gri price ara stone appl aroma f...\n",
       "117637    dog point chardonnay wine citrusi element hint...\n",
       "117638    blend % merlot % cabernet sauvignon % malbec r...\n",
       "117639    berri vie attent leather spice mild earth note...\n",
       "117640    blend cabernet sauvignon-merlot cabernet franc...\n",
       "117641    granit soil brand grand cru vineyard wine rich...\n",
       "117642    fresh fruiti full red cherri flavor crisp acid...\n",
       "117643    intens aroma wild cherri spice soil savori her...\n",
       "117644    blackberri cassi herb aroma glass palat espres...\n",
       "117645    wine impress rich spice sweet medium dri spice...\n",
       "117646    rich beauti dri wine consider fresh acid cut r...\n",
       "117647    note honeysuckl cantaloup feather-light spätle...\n",
       "117648    citat much decad bottl age pre-cellar drink pe...\n",
       "117649    well-drain gravel soil wine crisp dri charact ...\n",
       "117650    dri style pinot gri acid solid power core spic...\n",
       "117651    big rich off-dri intens spici round textur lyc...\n",
       "Name: description, Length: 117652, dtype: object"
      ]
     },
     "execution_count": 29,
     "metadata": {},
     "output_type": "execute_result"
    }
   ],
   "source": [
    "stemmedDataset[\"description\"] = stemDescriptions\n",
    "stemmedDataset[\"description\"]"
   ]
  },
  {
   "cell_type": "code",
   "execution_count": 25,
   "metadata": {},
   "outputs": [],
   "source": [
    "stemmedDataset.to_csv(\"stemmed.csv\", encoding='utf-8', index=False)"
   ]
  }
 ],
 "metadata": {
  "kernelspec": {
   "display_name": "Python 3",
   "language": "python",
   "name": "python3"
  },
  "language_info": {
   "codemirror_mode": {
    "name": "ipython",
    "version": 3
   },
   "file_extension": ".py",
   "mimetype": "text/x-python",
   "name": "python",
   "nbconvert_exporter": "python",
   "pygments_lexer": "ipython3",
   "version": "3.6.6"
  }
 },
 "nbformat": 4,
 "nbformat_minor": 2
}
