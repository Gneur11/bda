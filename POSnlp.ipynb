{
 "cells": [
  {
   "cell_type": "code",
   "execution_count": 1,
   "metadata": {},
   "outputs": [
    {
     "name": "stdout",
     "output_type": "stream",
     "text": [
      "[nltk_data] Downloading package punkt to\n",
      "[nltk_data]     C:\\Users\\Filippo\\AppData\\Roaming\\nltk_data...\n",
      "[nltk_data]   Package punkt is already up-to-date!\n",
      "[nltk_data] Downloading package stopwords to\n",
      "[nltk_data]     C:\\Users\\Filippo\\AppData\\Roaming\\nltk_data...\n",
      "[nltk_data]   Package stopwords is already up-to-date!\n",
      "[nltk_data] Downloading package averaged_perceptron_tagger to\n",
      "[nltk_data]     C:\\Users\\Filippo\\AppData\\Roaming\\nltk_data...\n",
      "[nltk_data]   Package averaged_perceptron_tagger is already up-to-\n",
      "[nltk_data]       date!\n"
     ]
    }
   ],
   "source": [
    "import pandas as pd\n",
    "import matplotlib.pyplot as plt\n",
    "import seaborn as sns\n",
    "import numpy as np\n",
    "import nltk\n",
    "import math\n",
    "from nltk import pos_tag, word_tokenize\n",
    "nltk.download('punkt')\n",
    "nltk.download('stopwords')\n",
    "nltk.download('averaged_perceptron_tagger')\n",
    "data = pd.read_csv(\"winemag-data-130k-v2.csv\")\n",
    "data.drop(columns=[\"Unnamed: 0\"],inplace=True)"
   ]
  },
  {
   "cell_type": "code",
   "execution_count": 2,
   "metadata": {},
   "outputs": [
    {
     "data": {
      "text/plain": [
       "119988"
      ]
     },
     "execution_count": 2,
     "metadata": {},
     "output_type": "execute_result"
    }
   ],
   "source": [
    "data = data.drop_duplicates([\"description\",\"price\",\"points\",\"taster_name\",\"title\"])\n",
    "len(data)"
   ]
  },
  {
   "cell_type": "code",
   "execution_count": 3,
   "metadata": {},
   "outputs": [],
   "source": [
    "\"\"\"\n",
    "missingOnlyName = 0\n",
    "missingOnlyTwitter = 0\n",
    "missingBoth = 0\n",
    "lis = []\n",
    "for idx,row in data.iterrows():\n",
    "    #print(row[\"taster_name\"])\n",
    "    if(pd.isnull(row[\"taster_name\"]) and (not pd.isnull(row[\"taster_twitter_handle\"]))):\n",
    "        missingOnlyName = missingOnlyName + 1\n",
    "    if(pd.isnull(row[\"taster_twitter_handle\"]) and (not pd.isnull(row[\"taster_name\"]))):\n",
    "        missingOnlyTwitter = missingOnlyTwitter + 1\n",
    "    if(pd.isnull(row[\"taster_name\"]) and pd.isnull(row[\"taster_twitter_handle\"])):\n",
    "        missingBoth = missingBoth + 1\n",
    "    couple = [row[\"taster_name\"],row[\"taster_twitter_handle\"]]\n",
    "    if not couple in lis:\n",
    "        lis.append(couple)\n",
    "print(missingOnlyName,missingOnlyTwitter,missingBoth)\n",
    "print(lis,len(lis))\n",
    "\"\"\"\n",
    "data.drop([\"taster_twitter_handle\"],axis=1,inplace=True)"
   ]
  },
  {
   "cell_type": "code",
   "execution_count": 4,
   "metadata": {},
   "outputs": [],
   "source": [
    "avgPriceWinery = data.groupby(\"winery\")#.price.mean()\n",
    "#avgPriceWinery.get_group(\"1+1=3\").price.mean()\n",
    "data['price'] = data.apply(\n",
    "    lambda row: avgPriceWinery.get_group(row[\"winery\"]).price.mean() if pd.isnull(row['price']) else row['price'],\n",
    "    axis=1\n",
    ")\n",
    "data[\"price\"].fillna(data[\"price\"].mean(),inplace=True)\n",
    "\n",
    "#prende solo recensioni con autore conosciuto, ha senso come cosa?\n",
    "#data.dropna(subset=[\"taster_name\"],inplace=True)\n",
    "\n",
    "data.fillna(\"unknown\",inplace=True)"
   ]
  },
  {
   "cell_type": "code",
   "execution_count": 5,
   "metadata": {},
   "outputs": [
    {
     "data": {
      "text/plain": [
       "117652"
      ]
     },
     "execution_count": 5,
     "metadata": {},
     "output_type": "execute_result"
    }
   ],
   "source": [
    "actualData = data.groupby(\"country\").filter(lambda x: len(x)>600) \n",
    "len(actualData)"
   ]
  },
  {
   "cell_type": "code",
   "execution_count": 6,
   "metadata": {},
   "outputs": [
    {
     "name": "stderr",
     "output_type": "stream",
     "text": [
      "E:\\Anaconda\\lib\\site-packages\\ipykernel_launcher.py:1: SettingWithCopyWarning: \n",
      "A value is trying to be set on a copy of a slice from a DataFrame.\n",
      "Try using .loc[row_indexer,col_indexer] = value instead\n",
      "\n",
      "See the caveats in the documentation: http://pandas.pydata.org/pandas-docs/stable/indexing.html#indexing-view-versus-copy\n",
      "  \"\"\"Entry point for launching an IPython kernel.\n"
     ]
    },
    {
     "data": {
      "text/html": [
       "<div>\n",
       "<style scoped>\n",
       "    .dataframe tbody tr th:only-of-type {\n",
       "        vertical-align: middle;\n",
       "    }\n",
       "\n",
       "    .dataframe tbody tr th {\n",
       "        vertical-align: top;\n",
       "    }\n",
       "\n",
       "    .dataframe thead th {\n",
       "        text-align: right;\n",
       "    }\n",
       "</style>\n",
       "<table border=\"1\" class=\"dataframe\">\n",
       "  <thead>\n",
       "    <tr style=\"text-align: right;\">\n",
       "      <th></th>\n",
       "      <th>country</th>\n",
       "      <th>description</th>\n",
       "      <th>designation</th>\n",
       "      <th>points</th>\n",
       "      <th>price</th>\n",
       "      <th>province</th>\n",
       "      <th>region_1</th>\n",
       "      <th>region_2</th>\n",
       "      <th>taster_name</th>\n",
       "      <th>title</th>\n",
       "      <th>variety</th>\n",
       "      <th>winery</th>\n",
       "      <th>word_count</th>\n",
       "    </tr>\n",
       "  </thead>\n",
       "  <tbody>\n",
       "    <tr>\n",
       "      <th>0</th>\n",
       "      <td>Italy</td>\n",
       "      <td>Aromas include tropical fruit, broom, brimston...</td>\n",
       "      <td>Vulkà Bianco</td>\n",
       "      <td>87</td>\n",
       "      <td>17.0</td>\n",
       "      <td>Sicily &amp; Sardinia</td>\n",
       "      <td>Etna</td>\n",
       "      <td>unknown</td>\n",
       "      <td>Kerin O’Keefe</td>\n",
       "      <td>Nicosia 2013 Vulkà Bianco  (Etna)</td>\n",
       "      <td>White Blend</td>\n",
       "      <td>Nicosia</td>\n",
       "      <td>24</td>\n",
       "    </tr>\n",
       "    <tr>\n",
       "      <th>1</th>\n",
       "      <td>Portugal</td>\n",
       "      <td>This is ripe and fruity, a wine that is smooth...</td>\n",
       "      <td>Avidagos</td>\n",
       "      <td>87</td>\n",
       "      <td>15.0</td>\n",
       "      <td>Douro</td>\n",
       "      <td>unknown</td>\n",
       "      <td>unknown</td>\n",
       "      <td>Roger Voss</td>\n",
       "      <td>Quinta dos Avidagos 2011 Avidagos Red (Douro)</td>\n",
       "      <td>Portuguese Red</td>\n",
       "      <td>Quinta dos Avidagos</td>\n",
       "      <td>39</td>\n",
       "    </tr>\n",
       "    <tr>\n",
       "      <th>2</th>\n",
       "      <td>US</td>\n",
       "      <td>Tart and snappy, the flavors of lime flesh and...</td>\n",
       "      <td>unknown</td>\n",
       "      <td>87</td>\n",
       "      <td>14.0</td>\n",
       "      <td>Oregon</td>\n",
       "      <td>Willamette Valley</td>\n",
       "      <td>Willamette Valley</td>\n",
       "      <td>Paul Gregutt</td>\n",
       "      <td>Rainstorm 2013 Pinot Gris (Willamette Valley)</td>\n",
       "      <td>Pinot Gris</td>\n",
       "      <td>Rainstorm</td>\n",
       "      <td>28</td>\n",
       "    </tr>\n",
       "    <tr>\n",
       "      <th>3</th>\n",
       "      <td>US</td>\n",
       "      <td>Pineapple rind, lemon pith and orange blossom ...</td>\n",
       "      <td>Reserve Late Harvest</td>\n",
       "      <td>87</td>\n",
       "      <td>13.0</td>\n",
       "      <td>Michigan</td>\n",
       "      <td>Lake Michigan Shore</td>\n",
       "      <td>unknown</td>\n",
       "      <td>Alexander Peartree</td>\n",
       "      <td>St. Julian 2013 Reserve Late Harvest Riesling ...</td>\n",
       "      <td>Riesling</td>\n",
       "      <td>St. Julian</td>\n",
       "      <td>33</td>\n",
       "    </tr>\n",
       "    <tr>\n",
       "      <th>4</th>\n",
       "      <td>US</td>\n",
       "      <td>Much like the regular bottling from 2012, this...</td>\n",
       "      <td>Vintner's Reserve Wild Child Block</td>\n",
       "      <td>87</td>\n",
       "      <td>65.0</td>\n",
       "      <td>Oregon</td>\n",
       "      <td>Willamette Valley</td>\n",
       "      <td>Willamette Valley</td>\n",
       "      <td>Paul Gregutt</td>\n",
       "      <td>Sweet Cheeks 2012 Vintner's Reserve Wild Child...</td>\n",
       "      <td>Pinot Noir</td>\n",
       "      <td>Sweet Cheeks</td>\n",
       "      <td>41</td>\n",
       "    </tr>\n",
       "  </tbody>\n",
       "</table>\n",
       "</div>"
      ],
      "text/plain": [
       "    country                                        description  \\\n",
       "0     Italy  Aromas include tropical fruit, broom, brimston...   \n",
       "1  Portugal  This is ripe and fruity, a wine that is smooth...   \n",
       "2        US  Tart and snappy, the flavors of lime flesh and...   \n",
       "3        US  Pineapple rind, lemon pith and orange blossom ...   \n",
       "4        US  Much like the regular bottling from 2012, this...   \n",
       "\n",
       "                          designation  points  price           province  \\\n",
       "0                        Vulkà Bianco      87   17.0  Sicily & Sardinia   \n",
       "1                            Avidagos      87   15.0              Douro   \n",
       "2                             unknown      87   14.0             Oregon   \n",
       "3                Reserve Late Harvest      87   13.0           Michigan   \n",
       "4  Vintner's Reserve Wild Child Block      87   65.0             Oregon   \n",
       "\n",
       "              region_1           region_2         taster_name  \\\n",
       "0                 Etna            unknown       Kerin O’Keefe   \n",
       "1              unknown            unknown          Roger Voss   \n",
       "2    Willamette Valley  Willamette Valley        Paul Gregutt   \n",
       "3  Lake Michigan Shore            unknown  Alexander Peartree   \n",
       "4    Willamette Valley  Willamette Valley        Paul Gregutt   \n",
       "\n",
       "                                               title         variety  \\\n",
       "0                  Nicosia 2013 Vulkà Bianco  (Etna)     White Blend   \n",
       "1      Quinta dos Avidagos 2011 Avidagos Red (Douro)  Portuguese Red   \n",
       "2      Rainstorm 2013 Pinot Gris (Willamette Valley)      Pinot Gris   \n",
       "3  St. Julian 2013 Reserve Late Harvest Riesling ...        Riesling   \n",
       "4  Sweet Cheeks 2012 Vintner's Reserve Wild Child...      Pinot Noir   \n",
       "\n",
       "                winery  word_count  \n",
       "0              Nicosia          24  \n",
       "1  Quinta dos Avidagos          39  \n",
       "2            Rainstorm          28  \n",
       "3           St. Julian          33  \n",
       "4         Sweet Cheeks          41  "
      ]
     },
     "execution_count": 6,
     "metadata": {},
     "output_type": "execute_result"
    }
   ],
   "source": [
    "actualData[\"word_count\"] = actualData[\"description\"].apply(lambda x: len(str(x).split(\" \")))\n",
    "actualData.head()"
   ]
  },
  {
   "cell_type": "code",
   "execution_count": 7,
   "metadata": {},
   "outputs": [],
   "source": [
    "#desc = actualData.iloc[0][\"description\"]\n",
    "#tokens = word_tokenize(desc)\n",
    "#tagged = pos_tag(tokens)\n",
    "#tagged"
   ]
  },
  {
   "cell_type": "code",
   "execution_count": 8,
   "metadata": {},
   "outputs": [],
   "source": [
    "#tagged[0][1]"
   ]
  },
  {
   "cell_type": "code",
   "execution_count": 9,
   "metadata": {},
   "outputs": [],
   "source": [
    "taggedDescriptions = []\n",
    "for idx, row in actualData.iterrows():\n",
    "    desc = row[\"description\"]\n",
    "    tokens = word_tokenize(desc)\n",
    "    tagged = pos_tag(tokens)\n",
    "    taggedDescriptions.append(tagged)"
   ]
  },
  {
   "cell_type": "code",
   "execution_count": 10,
   "metadata": {},
   "outputs": [],
   "source": [
    "descriptions = []\n",
    "for item in taggedDescriptions:\n",
    "    processed = \"\"\n",
    "    for el in item:\n",
    "        if el[1].startswith(\"N\") or el[1].startswith(\"J\"):  #se iniziano con N o J sono nomi o aggettivi, quello che ci serve di più\n",
    "            processed = processed + \" \" + el[0]\n",
    "    descriptions.append(processed)"
   ]
  },
  {
   "cell_type": "code",
   "execution_count": 11,
   "metadata": {},
   "outputs": [
    {
     "data": {
      "text/plain": [
       "' Pineapple rind lemon pith orange blossom aromas palate opulent notes honey-drizzled guava mango way astringent semidry finish'"
      ]
     },
     "execution_count": 11,
     "metadata": {},
     "output_type": "execute_result"
    }
   ],
   "source": [
    "descriptions[3]"
   ]
  },
  {
   "cell_type": "code",
   "execution_count": 12,
   "metadata": {},
   "outputs": [
    {
     "name": "stderr",
     "output_type": "stream",
     "text": [
      "E:\\Anaconda\\lib\\site-packages\\ipykernel_launcher.py:1: SettingWithCopyWarning: \n",
      "A value is trying to be set on a copy of a slice from a DataFrame.\n",
      "Try using .loc[row_indexer,col_indexer] = value instead\n",
      "\n",
      "See the caveats in the documentation: http://pandas.pydata.org/pandas-docs/stable/indexing.html#indexing-view-versus-copy\n",
      "  \"\"\"Entry point for launching an IPython kernel.\n"
     ]
    }
   ],
   "source": [
    "actualData[\"description\"] = descriptions"
   ]
  },
  {
   "cell_type": "code",
   "execution_count": 14,
   "metadata": {},
   "outputs": [
    {
     "name": "stderr",
     "output_type": "stream",
     "text": [
      "E:\\Anaconda\\lib\\site-packages\\ipykernel_launcher.py:2: SettingWithCopyWarning: \n",
      "A value is trying to be set on a copy of a slice from a DataFrame.\n",
      "Try using .loc[row_indexer,col_indexer] = value instead\n",
      "\n",
      "See the caveats in the documentation: http://pandas.pydata.org/pandas-docs/stable/indexing.html#indexing-view-versus-copy\n",
      "  \n"
     ]
    }
   ],
   "source": [
    "#lower case everything\n",
    "actualData['description'] = actualData['description'].apply(lambda x: \" \".join(x.lower() for x in x.split()))"
   ]
  },
  {
   "cell_type": "code",
   "execution_count": 15,
   "metadata": {},
   "outputs": [],
   "source": [
    "actualData.to_csv(\"dataAfterPOS.csv\", encoding='utf-8', index=False)"
   ]
  },
  {
   "cell_type": "code",
   "execution_count": 16,
   "metadata": {},
   "outputs": [
    {
     "data": {
      "text/plain": [
       "0         aromas tropical fruit broom brimstone herb pal...\n",
       "1         ripe fruity wine firm tannins juicy red berry ...\n",
       "2         tart snappy flavors lime flesh dominate green ...\n",
       "3         pineapple rind lemon pith orange blossom aroma...\n",
       "4         much regular bottling rough tannic rustic eart...\n",
       "5         blackberry typical navarran whiff green herbs ...\n",
       "6         bright informal aromas candied berry white pep...\n",
       "7         dry restrained wine offers profusion acidity f...\n",
       "8         savory thyme notes accent sunnier flavors pres...\n",
       "9         great depth flavor fresh apple pear fruits tou...\n",
       "10        soft supple plum oaky structure cabernet % mer...\n",
       "11        dry wine spicy tight taut texture mineral char...\n",
       "12        wine chalky tannic backbone otherwise juicy ex...\n",
       "13        oak oak-driven aromas coffee bean espresso coc...\n",
       "14        years generations tradition winery leaner styl...\n",
       "15        zesty orange peels apple notes mineral-toned r...\n",
       "16        baked plum molasses balsamic vinegar cheesy oa...\n",
       "17        raw black-cherry aromas direct simple good jui...\n",
       "18        blackberry leather wood mint aromas nose full-...\n",
       "19        red fruit nose cigar box menthol notes back pa...\n",
       "20        ripe aromas dark berries ample notes black pep...\n",
       "21        sleek mix tart berry stem herb hint oak chocol...\n",
       "22        delicate aromas white flower citrus palate off...\n",
       "23        wine geneseo district offers sour plums cigar ...\n",
       "24        aromas prune blackcurrant toast oak extracted ...\n",
       "25        oak earth intermingle robust aromas wet forest...\n",
       "26        pretty aromas yellow flower stone fruit nose b...\n",
       "27        aromas recall ripe dark berry toast whiff cake...\n",
       "28        aromas mature berry earth animal toast anise p...\n",
       "29        clarksburg haven chenin blanc california bottl...\n",
       "                                ...                        \n",
       "129939    true tba rich toffee-flavored intense sweetnes...\n",
       "129940    winery bells whistles chardonnay inland fruit ...\n",
       "129941    chardonnay unusual companion % sémillon floral...\n",
       "129942    classic herbaceous aromas flavors rich juicy b...\n",
       "129943    blend nero d'avola syrah conveys aromas scorch...\n",
       "129945    more popular vineyards varietal whole central ...\n",
       "129946    plump clingy peach honey notes streaks lime de...\n",
       "129947    blend % cabernet sauvignon % merlot % petit ve...\n",
       "129948    raspberry cassis aromas fresh upright wiry gra...\n",
       "129949    bones use oak wine months effects good barrel ...\n",
       "129950    herbaceous dollops thyme fresh-dug earth glass...\n",
       "129951    spicy rich wine sweet fact spice edge pepper c...\n",
       "129952    zinfandel eastern section napa valley structur...\n",
       "129953    two-thirds cabernet one-third merlot medium-bo...\n",
       "129954    characterful pinot gris price ara stone apple ...\n",
       "129955    dog point chardonnay wine citrusy elements hin...\n",
       "129956    blend % merlot % cabernet sauvignon % malbec r...\n",
       "129957    berry vie attention leather spice mild earth n...\n",
       "129958    blend cabernet sauvignon-merlot cabernet franc...\n",
       "129959    granite soil brand grand cru vineyard wine ric...\n",
       "129960    fresh fruity full red cherry flavors crisp aci...\n",
       "129961    intense aromas wild cherry spice soil savory h...\n",
       "129962    blackberry cassis herb aromas glass palate esp...\n",
       "129964    wine impressive richness spice sweet medium dr...\n",
       "129965    rich beautiful dry wine considerable freshness...\n",
       "129966    notes honeysuckle cantaloupe feather-light spä...\n",
       "129967    citation much decade bottle age pre-cellared d...\n",
       "129968    well-drained gravel soil wine crisp dry charac...\n",
       "129969    dry style pinot gris acidity solid powerful co...\n",
       "129970    big rich off-dry intense spiciness rounded tex...\n",
       "Name: description, Length: 117652, dtype: object"
      ]
     },
     "execution_count": 16,
     "metadata": {},
     "output_type": "execute_result"
    }
   ],
   "source": [
    "#rimosso tutto il removibile? come viene adesso la situa? \n",
    "actualData[\"description\"]"
   ]
  },
  {
   "cell_type": "code",
   "execution_count": null,
   "metadata": {},
   "outputs": [],
   "source": [
    "#nelle descrizioni si trovano anche i nomi di altri vini, tipo \"ah ha 30% di bordeaux\". Rimuovere nomi dei vini o lasciare tutto?"
   ]
  },
  {
   "cell_type": "code",
   "execution_count": 17,
   "metadata": {
    "scrolled": true
   },
   "outputs": [
    {
     "name": "stdout",
     "output_type": "stream",
     "text": [
      "19.969690273008535\n"
     ]
    },
    {
     "name": "stderr",
     "output_type": "stream",
     "text": [
      "E:\\Anaconda\\lib\\site-packages\\ipykernel_launcher.py:1: SettingWithCopyWarning: \n",
      "A value is trying to be set on a copy of a slice from a DataFrame.\n",
      "Try using .loc[row_indexer,col_indexer] = value instead\n",
      "\n",
      "See the caveats in the documentation: http://pandas.pydata.org/pandas-docs/stable/indexing.html#indexing-view-versus-copy\n",
      "  \"\"\"Entry point for launching an IPython kernel.\n"
     ]
    }
   ],
   "source": [
    "actualData[\"word_count\"] = actualData[\"description\"].apply(lambda x: len(str(x).split(\" \")))\n",
    "actualData.head()\n",
    "print(actualData[\"word_count\"].mean())"
   ]
  }
 ],
 "metadata": {
  "kernelspec": {
   "display_name": "Python 3",
   "language": "python",
   "name": "python3"
  },
  "language_info": {
   "codemirror_mode": {
    "name": "ipython",
    "version": 3
   },
   "file_extension": ".py",
   "mimetype": "text/x-python",
   "name": "python",
   "nbconvert_exporter": "python",
   "pygments_lexer": "ipython3",
   "version": "3.6.6"
  }
 },
 "nbformat": 4,
 "nbformat_minor": 2
}
