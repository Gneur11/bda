{
 "cells": [
  {
   "cell_type": "markdown",
   "metadata": {},
   "source": [
    "# Idee\n",
    "-- modello per indovinare la regione dalle descrizioni? difficile? \n",
    "\n",
    "-- in base agli aggettivi della descrizione e alla regione prevedere il vino? o solo la tipologia? il prezzo? boh\n",
    "\n",
    "-- classificare i vini in base alle descrizioni in cluster? a cosa può servire?\n",
    "\n",
    "-- quanto DOVREBBE costare una bottiglia rispetto alle recensioni ricevute?  \"percieved value\"\n",
    "\n",
    "# *Possibile proposta*\n",
    "\n",
    "1) prevedere se a un determinato sommelier piacerà un determinato vino in base alle descrizioni dei vari vini? VIsto che nella taster \"experience\" analysis sembra palese che ci siano delle preferenze, magari a un'azienda vinicola che deve far assaggiare suoi prodotti a lui potrebbe interessare sapere le caratteristiche comuni di quelle che ha votato bene..."
   ]
  },
  {
   "cell_type": "code",
   "execution_count": 1,
   "metadata": {},
   "outputs": [
    {
     "data": {
      "text/plain": [
       "129971"
      ]
     },
     "execution_count": 1,
     "metadata": {},
     "output_type": "execute_result"
    }
   ],
   "source": [
    "import pandas as pd\n",
    "import matplotlib.pyplot as plt\n",
    "import seaborn as sns\n",
    "import numpy as np\n",
    "data = pd.read_csv(\"winemag-data-130k-v2.csv\")\n",
    "data.drop(columns=[\"Unnamed: 0\"],inplace=True)\n",
    "len(data)"
   ]
  },
  {
   "cell_type": "code",
   "execution_count": null,
   "metadata": {},
   "outputs": [],
   "source": [
    "data"
   ]
  },
  {
   "cell_type": "code",
   "execution_count": null,
   "metadata": {},
   "outputs": [],
   "source": [
    "len(data[data.duplicated('description',keep=False)].sort_values('description'))"
   ]
  },
  {
   "cell_type": "code",
   "execution_count": null,
   "metadata": {},
   "outputs": [],
   "source": [
    "len(data[data.duplicated(['description',\"price\",\"points\",\"country\",\"province\",\"title\"],keep=False)].sort_values('description'))"
   ]
  },
  {
   "cell_type": "code",
   "execution_count": 2,
   "metadata": {},
   "outputs": [
    {
     "data": {
      "text/plain": [
       "119988"
      ]
     },
     "execution_count": 2,
     "metadata": {},
     "output_type": "execute_result"
    }
   ],
   "source": [
    "data = data.drop_duplicates([\"description\",\"price\",\"points\",\"taster_name\",\"title\"])\n",
    "len(data)"
   ]
  },
  {
   "cell_type": "code",
   "execution_count": null,
   "metadata": {},
   "outputs": [],
   "source": [
    "data.info()"
   ]
  },
  {
   "cell_type": "markdown",
   "metadata": {},
   "source": [
    ".. tanti null sulla parte della designation, sulel due regioni e sui nomi dei reviewers"
   ]
  },
  {
   "cell_type": "code",
   "execution_count": null,
   "metadata": {},
   "outputs": [],
   "source": [
    "len(data[\"title\"].unique())"
   ]
  },
  {
   "cell_type": "code",
   "execution_count": null,
   "metadata": {},
   "outputs": [],
   "source": [
    "data[\"title\"].unique()"
   ]
  },
  {
   "cell_type": "markdown",
   "metadata": {},
   "source": [
    "# Missing values and correlations"
   ]
  },
  {
   "cell_type": "code",
   "execution_count": 3,
   "metadata": {},
   "outputs": [],
   "source": [
    "\"\"\"\n",
    "missingOnlyName = 0\n",
    "missingOnlyTwitter = 0\n",
    "missingBoth = 0\n",
    "lis = []\n",
    "for idx,row in data.iterrows():\n",
    "    #print(row[\"taster_name\"])\n",
    "    if(pd.isnull(row[\"taster_name\"]) and (not pd.isnull(row[\"taster_twitter_handle\"]))):\n",
    "        missingOnlyName = missingOnlyName + 1\n",
    "    if(pd.isnull(row[\"taster_twitter_handle\"]) and (not pd.isnull(row[\"taster_name\"]))):\n",
    "        missingOnlyTwitter = missingOnlyTwitter + 1\n",
    "    if(pd.isnull(row[\"taster_name\"]) and pd.isnull(row[\"taster_twitter_handle\"])):\n",
    "        missingBoth = missingBoth + 1\n",
    "    couple = [row[\"taster_name\"],row[\"taster_twitter_handle\"]]\n",
    "    if not couple in lis:\n",
    "        lis.append(couple)\n",
    "print(missingOnlyName,missingOnlyTwitter,missingBoth)\n",
    "print(lis,len(lis))\n",
    "\"\"\"\n",
    "data.drop([\"taster_twitter_handle\"],axis=1,inplace=True)"
   ]
  },
  {
   "cell_type": "markdown",
   "metadata": {},
   "source": [
    "Dato che le twitter handle mancanti sono più dei nomi mancanti e non ci sono coppie (nome,twitter) del tipo (\"nan\",\"@sticaz\") dalle quali si poteva risalire al nome originale così da avere meno valori sconosciuti, si può droppare tranquillamente il twitter handle senza perdere nulla"
   ]
  },
  {
   "cell_type": "code",
   "execution_count": null,
   "metadata": {},
   "outputs": [],
   "source": [
    "data"
   ]
  },
  {
   "cell_type": "code",
   "execution_count": null,
   "metadata": {},
   "outputs": [],
   "source": [
    "len(data[\"country\"].unique())"
   ]
  },
  {
   "cell_type": "code",
   "execution_count": 4,
   "metadata": {},
   "outputs": [],
   "source": [
    "avgPriceWinery = data.groupby(\"winery\")#.price.mean()\n",
    "#avgPriceWinery.get_group(\"1+1=3\").price.mean()"
   ]
  },
  {
   "cell_type": "code",
   "execution_count": 5,
   "metadata": {},
   "outputs": [],
   "source": [
    "data['price'] = data.apply(\n",
    "    lambda row: avgPriceWinery.get_group(row[\"winery\"]).price.mean() if pd.isnull(row['price']) else row['price'],\n",
    "    axis=1\n",
    ")\n",
    "data[\"price\"].fillna(data[\"price\"].mean(),inplace=True)\n",
    "\n",
    "#prende solo recensioni con autore conosciuto, ha senso come cosa?\n",
    "#data.dropna(subset=[\"taster_name\"],inplace=True)\n",
    "\n",
    "data.fillna(\"unknown\",inplace=True)"
   ]
  },
  {
   "cell_type": "code",
   "execution_count": null,
   "metadata": {},
   "outputs": [],
   "source": [
    "data"
   ]
  },
  {
   "cell_type": "code",
   "execution_count": null,
   "metadata": {},
   "outputs": [],
   "source": [
    "data[data[\"country\"] == \"Italy\"]"
   ]
  },
  {
   "cell_type": "markdown",
   "metadata": {},
   "source": [
    "sarebbe meglio riempire i nan del prezzo basandosi sulla media dei vini venduti dalla stessa cantina?"
   ]
  },
  {
   "cell_type": "code",
   "execution_count": 6,
   "metadata": {},
   "outputs": [
    {
     "data": {
      "text/html": [
       "<div>\n",
       "<style scoped>\n",
       "    .dataframe tbody tr th:only-of-type {\n",
       "        vertical-align: middle;\n",
       "    }\n",
       "\n",
       "    .dataframe tbody tr th {\n",
       "        vertical-align: top;\n",
       "    }\n",
       "\n",
       "    .dataframe thead th {\n",
       "        text-align: right;\n",
       "    }\n",
       "</style>\n",
       "<table border=\"1\" class=\"dataframe\">\n",
       "  <thead>\n",
       "    <tr style=\"text-align: right;\">\n",
       "      <th></th>\n",
       "      <th>country</th>\n",
       "      <th>description</th>\n",
       "      <th>designation</th>\n",
       "      <th>points</th>\n",
       "      <th>price</th>\n",
       "      <th>province</th>\n",
       "      <th>region_1</th>\n",
       "      <th>region_2</th>\n",
       "      <th>taster_name</th>\n",
       "      <th>title</th>\n",
       "      <th>variety</th>\n",
       "      <th>winery</th>\n",
       "      <th>Desig_Code</th>\n",
       "      <th>Taster_Code</th>\n",
       "      <th>Variety_Code</th>\n",
       "      <th>Winery_Code</th>\n",
       "      <th>Country_Code</th>\n",
       "      <th>Province_Code</th>\n",
       "    </tr>\n",
       "  </thead>\n",
       "  <tbody>\n",
       "    <tr>\n",
       "      <th>0</th>\n",
       "      <td>Italy</td>\n",
       "      <td>Aromas include tropical fruit, broom, brimston...</td>\n",
       "      <td>Vulkà Bianco</td>\n",
       "      <td>87</td>\n",
       "      <td>17.0</td>\n",
       "      <td>Sicily &amp; Sardinia</td>\n",
       "      <td>Etna</td>\n",
       "      <td>unknown</td>\n",
       "      <td>Kerin O’Keefe</td>\n",
       "      <td>Nicosia 2013 Vulkà Bianco  (Etna)</td>\n",
       "      <td>White Blend</td>\n",
       "      <td>Nicosia</td>\n",
       "      <td>36805</td>\n",
       "      <td>9</td>\n",
       "      <td>690</td>\n",
       "      <td>11608</td>\n",
       "      <td>22</td>\n",
       "      <td>331</td>\n",
       "    </tr>\n",
       "    <tr>\n",
       "      <th>1</th>\n",
       "      <td>Portugal</td>\n",
       "      <td>This is ripe and fruity, a wine that is smooth...</td>\n",
       "      <td>Avidagos</td>\n",
       "      <td>87</td>\n",
       "      <td>15.0</td>\n",
       "      <td>Douro</td>\n",
       "      <td>unknown</td>\n",
       "      <td>unknown</td>\n",
       "      <td>Roger Voss</td>\n",
       "      <td>Quinta dos Avidagos 2011 Avidagos Red (Douro)</td>\n",
       "      <td>Portuguese Red</td>\n",
       "      <td>Quinta dos Avidagos</td>\n",
       "      <td>2325</td>\n",
       "      <td>15</td>\n",
       "      <td>450</td>\n",
       "      <td>12956</td>\n",
       "      <td>31</td>\n",
       "      <td>108</td>\n",
       "    </tr>\n",
       "    <tr>\n",
       "      <th>2</th>\n",
       "      <td>US</td>\n",
       "      <td>Tart and snappy, the flavors of lime flesh and...</td>\n",
       "      <td>unknown</td>\n",
       "      <td>87</td>\n",
       "      <td>14.0</td>\n",
       "      <td>Oregon</td>\n",
       "      <td>Willamette Valley</td>\n",
       "      <td>Willamette Valley</td>\n",
       "      <td>Paul Gregutt</td>\n",
       "      <td>Rainstorm 2013 Pinot Gris (Willamette Valley)</td>\n",
       "      <td>Pinot Gris</td>\n",
       "      <td>Rainstorm</td>\n",
       "      <td>37913</td>\n",
       "      <td>14</td>\n",
       "      <td>436</td>\n",
       "      <td>13018</td>\n",
       "      <td>40</td>\n",
       "      <td>268</td>\n",
       "    </tr>\n",
       "    <tr>\n",
       "      <th>3</th>\n",
       "      <td>US</td>\n",
       "      <td>Pineapple rind, lemon pith and orange blossom ...</td>\n",
       "      <td>Reserve Late Harvest</td>\n",
       "      <td>87</td>\n",
       "      <td>13.0</td>\n",
       "      <td>Michigan</td>\n",
       "      <td>Lake Michigan Shore</td>\n",
       "      <td>unknown</td>\n",
       "      <td>Alexander Peartree</td>\n",
       "      <td>St. Julian 2013 Reserve Late Harvest Riesling ...</td>\n",
       "      <td>Riesling</td>\n",
       "      <td>St. Julian</td>\n",
       "      <td>27974</td>\n",
       "      <td>0</td>\n",
       "      <td>479</td>\n",
       "      <td>14390</td>\n",
       "      <td>40</td>\n",
       "      <td>218</td>\n",
       "    </tr>\n",
       "    <tr>\n",
       "      <th>4</th>\n",
       "      <td>US</td>\n",
       "      <td>Much like the regular bottling from 2012, this...</td>\n",
       "      <td>Vintner's Reserve Wild Child Block</td>\n",
       "      <td>87</td>\n",
       "      <td>65.0</td>\n",
       "      <td>Oregon</td>\n",
       "      <td>Willamette Valley</td>\n",
       "      <td>Willamette Valley</td>\n",
       "      <td>Paul Gregutt</td>\n",
       "      <td>Sweet Cheeks 2012 Vintner's Reserve Wild Child...</td>\n",
       "      <td>Pinot Noir</td>\n",
       "      <td>Sweet Cheeks</td>\n",
       "      <td>36465</td>\n",
       "      <td>14</td>\n",
       "      <td>440</td>\n",
       "      <td>14621</td>\n",
       "      <td>40</td>\n",
       "      <td>268</td>\n",
       "    </tr>\n",
       "  </tbody>\n",
       "</table>\n",
       "</div>"
      ],
      "text/plain": [
       "    country                                        description  \\\n",
       "0     Italy  Aromas include tropical fruit, broom, brimston...   \n",
       "1  Portugal  This is ripe and fruity, a wine that is smooth...   \n",
       "2        US  Tart and snappy, the flavors of lime flesh and...   \n",
       "3        US  Pineapple rind, lemon pith and orange blossom ...   \n",
       "4        US  Much like the regular bottling from 2012, this...   \n",
       "\n",
       "                          designation  points  price           province  \\\n",
       "0                        Vulkà Bianco      87   17.0  Sicily & Sardinia   \n",
       "1                            Avidagos      87   15.0              Douro   \n",
       "2                             unknown      87   14.0             Oregon   \n",
       "3                Reserve Late Harvest      87   13.0           Michigan   \n",
       "4  Vintner's Reserve Wild Child Block      87   65.0             Oregon   \n",
       "\n",
       "              region_1           region_2         taster_name  \\\n",
       "0                 Etna            unknown       Kerin O’Keefe   \n",
       "1              unknown            unknown          Roger Voss   \n",
       "2    Willamette Valley  Willamette Valley        Paul Gregutt   \n",
       "3  Lake Michigan Shore            unknown  Alexander Peartree   \n",
       "4    Willamette Valley  Willamette Valley        Paul Gregutt   \n",
       "\n",
       "                                               title         variety  \\\n",
       "0                  Nicosia 2013 Vulkà Bianco  (Etna)     White Blend   \n",
       "1      Quinta dos Avidagos 2011 Avidagos Red (Douro)  Portuguese Red   \n",
       "2      Rainstorm 2013 Pinot Gris (Willamette Valley)      Pinot Gris   \n",
       "3  St. Julian 2013 Reserve Late Harvest Riesling ...        Riesling   \n",
       "4  Sweet Cheeks 2012 Vintner's Reserve Wild Child...      Pinot Noir   \n",
       "\n",
       "                winery  Desig_Code  Taster_Code  Variety_Code  Winery_Code  \\\n",
       "0              Nicosia       36805            9           690        11608   \n",
       "1  Quinta dos Avidagos        2325           15           450        12956   \n",
       "2            Rainstorm       37913           14           436        13018   \n",
       "3           St. Julian       27974            0           479        14390   \n",
       "4         Sweet Cheeks       36465           14           440        14621   \n",
       "\n",
       "   Country_Code  Province_Code  \n",
       "0            22            331  \n",
       "1            31            108  \n",
       "2            40            268  \n",
       "3            40            218  \n",
       "4            40            268  "
      ]
     },
     "execution_count": 6,
     "metadata": {},
     "output_type": "execute_result"
    }
   ],
   "source": [
    "from sklearn.preprocessing import LabelEncoder\n",
    "\n",
    "# encode labels with value between 0 and n_classes-1.\n",
    "desig_encoder = LabelEncoder()\n",
    "taster_encoder = LabelEncoder()\n",
    "variety_encoder = LabelEncoder()\n",
    "winery_encoder = LabelEncoder()\n",
    "country_encoder = LabelEncoder()\n",
    "province_encoder = LabelEncoder()\n",
    "\n",
    "data['Desig_Code'] = desig_encoder.fit_transform(data['designation'])\n",
    "data['Taster_Code'] = taster_encoder.fit_transform(data['taster_name'])\n",
    "data['Variety_Code'] = variety_encoder.fit_transform(data['variety'])\n",
    "data['Winery_Code'] = winery_encoder.fit_transform(data['winery'])\n",
    "data['Country_Code'] = country_encoder.fit_transform(data['country'])\n",
    "data['Province_Code'] = province_encoder.fit_transform(data['province'])\n",
    "\n",
    "data.head()"
   ]
  },
  {
   "cell_type": "code",
   "execution_count": null,
   "metadata": {},
   "outputs": [],
   "source": [
    "# calculate the correlation matrix\n",
    "data1 = data[[\"Country_Code\",\"Province_Code\",\"price\",\"points\",\"Variety_Code\",\"Taster_Code\",\"Winery_Code\",\"Desig_Code\"]]\n",
    "corr = data1.corr()\n",
    "plt.subplots(figsize =(14, 12))\n",
    "\n",
    "# plot the heatmap\n",
    "sns.heatmap(corr, \n",
    "        xticklabels=corr.columns,\n",
    "        yticklabels=corr.columns,annot=True)\n",
    "plt.xticks(rotation = 0)\n",
    "plt.yticks(rotation = 0)"
   ]
  },
  {
   "cell_type": "markdown",
   "metadata": {},
   "source": [
    "Price e points sono loosely correlated, perchè la correlation fra country e province è così bassa? forse perchè ci sono tante province all'interno di una nazione"
   ]
  },
  {
   "cell_type": "markdown",
   "metadata": {},
   "source": [
    "# General analysis"
   ]
  },
  {
   "cell_type": "code",
   "execution_count": null,
   "metadata": {},
   "outputs": [],
   "source": [
    "fig, ax = plt.subplots(figsize = (12, 5))\n",
    "points = data[\"points\"].astype(int)\n",
    "sns.distplot(points)"
   ]
  },
  {
   "cell_type": "code",
   "execution_count": null,
   "metadata": {},
   "outputs": [],
   "source": [
    "fig, ax = plt.subplots(figsize = (7, 5))\n",
    "ax =sns.boxplot(data[\"points\"])"
   ]
  },
  {
   "cell_type": "code",
   "execution_count": null,
   "metadata": {},
   "outputs": [],
   "source": [
    "x = data.dropna(subset=[\"price\"])\n",
    "fig, ax = plt.subplots(figsize = (7, 5))\n",
    "ax = sns.distplot(x[\"price\"])"
   ]
  },
  {
   "cell_type": "markdown",
   "metadata": {},
   "source": [
    "La grandissima maggioranza dei vini costa meno di 100 dollari"
   ]
  },
  {
   "cell_type": "code",
   "execution_count": null,
   "metadata": {},
   "outputs": [],
   "source": [
    "variety_df = data.groupby('variety').filter(lambda x: len(x) > 150)\n",
    "varieties = variety_df['variety'].value_counts().index.tolist()\n",
    "fig, ax = plt.subplots(figsize = (25, 10))\n",
    "sns.countplot(x = variety_df['variety'], order = varieties, ax = ax)\n",
    "plt.xticks(rotation = 90)\n",
    "plt.show()"
   ]
  },
  {
   "cell_type": "code",
   "execution_count": 7,
   "metadata": {},
   "outputs": [
    {
     "data": {
      "image/png": "[encoded data removed]",
      "text/plain": [
       "<Figure size 1800x720 with 1 Axes>"
      ]
     },
     "metadata": {},
     "output_type": "display_data"
    }
   ],
   "source": [
    "country = data.groupby(\"country\").filter(lambda x: len(x)>500) #> tot perchè così prende i paesi un po' più interessanti visti i numeri\n",
    "countryInfo = country['country'].value_counts().index.tolist()\n",
    "fig, ax = plt.subplots(figsize = (25, 10))\n",
    "sns.countplot(x = country['country'], order = countryInfo, ax = ax)\n",
    "plt.xticks(rotation = 90)\n",
    "plt.show()\n",
    "#country.groups\n",
    "#country.get_group(\"Argentina\")"
   ]
  },
  {
   "cell_type": "code",
   "execution_count": null,
   "metadata": {},
   "outputs": [],
   "source": [
    "country = data.groupby([\"country\"])\n",
    "d1 = pd.DataFrame({\"count\":country[\"country\"].count()}).reset_index()\n",
    "d1 = d1[d1[\"count\"] > 100].sum()\n",
    "d1"
   ]
  },
  {
   "cell_type": "code",
   "execution_count": null,
   "metadata": {},
   "outputs": [],
   "source": [
    "d2 = pd.DataFrame({\"count\":country[\"country\"].count()}).reset_index()\n",
    "d2 = d2[d2[\"count\"] > 500].sum()\n",
    "d2"
   ]
  },
  {
   "cell_type": "code",
   "execution_count": null,
   "metadata": {},
   "outputs": [],
   "source": [
    "var = data.groupby(\"variety\").filter(lambda x: len(x)>6000)\n",
    "var = var.groupby(\"variety\")\n",
    "fig, ax = plt.subplots(figsize = (25, 10))\n",
    "ax.margins(0.05) # Optional, just adds 5% padding to the autoscaling\n",
    "for name, group in var:\n",
    "    ax.plot(group[\"price\"], group[\"points\"], marker='o', linestyle='', ms=12, label=name)\n",
    "plt.legend()\n",
    "plt.show()"
   ]
  },
  {
   "cell_type": "code",
   "execution_count": null,
   "metadata": {
    "scrolled": false
   },
   "outputs": [],
   "source": [
    "sns.lmplot(x=\"points\", y =\"price\",data = data)"
   ]
  },
  {
   "cell_type": "markdown",
   "metadata": {},
   "source": [
    "-- In generale si può notare correlazione positiva fra prezzo e qualità: più è alto il prezzo, più tende ad essere buono il vino"
   ]
  },
  {
   "cell_type": "code",
   "execution_count": null,
   "metadata": {
    "scrolled": true
   },
   "outputs": [],
   "source": [
    "fig, ax = plt.subplots(figsize = (25, 10))\n",
    "ax = sns.boxplot(x=\"country\", y=\"points\", data=country)"
   ]
  },
  {
   "cell_type": "markdown",
   "metadata": {},
   "source": [
    "l'argentina, il chile, la romania e la spagna sembrano essere i paesi con le mediane più basse per quanto riguarda i punti. Mentre germania, austria e canada i più alti."
   ]
  },
  {
   "cell_type": "code",
   "execution_count": null,
   "metadata": {
    "scrolled": false
   },
   "outputs": [],
   "source": [
    "fig, ax = plt.subplots(figsize = (25, 10))\n",
    "ax = sns.scatterplot(x=\"country\", y=\"price\", data=country) #il boxplot viene male??"
   ]
  },
  {
   "cell_type": "code",
   "execution_count": null,
   "metadata": {},
   "outputs": [],
   "source": [
    "fig, ax = plt.subplots(figsize = (25, 10))\n",
    "ax = sns.boxplot(x=\"country\", y=\"price\", data=country) #il boxplot viene male??"
   ]
  },
  {
   "cell_type": "code",
   "execution_count": null,
   "metadata": {},
   "outputs": [],
   "source": [
    "prov = data.groupby(\"province\").filter(lambda x: len(x)>600) #> tot perchè così prende i paesi un po' più interessanti visti i numeri\n",
    "provInfo = prov['province'].value_counts().index.tolist()\n",
    "fig, ax = plt.subplots(figsize = (25, 10))\n",
    "sns.countplot(x = prov['province'], order = provInfo, ax = ax)\n",
    "plt.xticks(rotation = 90)\n",
    "plt.show()"
   ]
  },
  {
   "cell_type": "markdown",
   "metadata": {},
   "source": [
    "il dataset è palesemente \"spostato\" verso gli stati uniti e in particolare la california"
   ]
  },
  {
   "cell_type": "markdown",
   "metadata": {},
   "source": [
    "# Winery analysis "
   ]
  },
  {
   "cell_type": "code",
   "execution_count": null,
   "metadata": {},
   "outputs": [],
   "source": [
    "wineries = data.groupby([\"winery\"])\n",
    "d1 = pd.DataFrame({'mean_pts' : wineries[\"points\"].mean(), \"mean_price\": wineries[\"price\"].mean(),\n",
    "                   \"reviews_number\": wineries[\"description\"].nunique(), \"variety_number\":wineries[\"variety\"].nunique(),\n",
    "                  \"varieties\":wineries[\"variety\"].unique().tolist()}\n",
    "                 ).reset_index()\n",
    "res = d1.sort_values([\"reviews_number\",\"mean_pts\"],ascending=False)\n",
    "res"
   ]
  },
  {
   "cell_type": "code",
   "execution_count": null,
   "metadata": {},
   "outputs": [],
   "source": [
    "res.iloc[0][\"varieties\"][0]"
   ]
  },
  {
   "cell_type": "code",
   "execution_count": null,
   "metadata": {},
   "outputs": [],
   "source": [
    "#prende quelle con un numero di entry maggiore di 10\n",
    "res = res[res[\"reviews_number\"] > 10]\n",
    "fig, ax = plt.subplots(figsize = (25, 10))\n",
    "ax = sns.scatterplot(x=\"mean_pts\", y=\"variety_number\", data=res)"
   ]
  },
  {
   "cell_type": "markdown",
   "metadata": {},
   "source": [
    "Si può notare come la parte in mezzo \"meh points\" facciano un alto numero di vini, mentre quelli con i punteggi più alti si concentrano su meno di 5 varietà. Si può dire che chi si concentra solo su una cosa va meglio? "
   ]
  },
  {
   "cell_type": "code",
   "execution_count": null,
   "metadata": {},
   "outputs": [],
   "source": [
    "fig, ax = plt.subplots(figsize = (25, 10))\n",
    "ax = sns.distplot(res[\"mean_pts\"])"
   ]
  },
  {
   "cell_type": "code",
   "execution_count": null,
   "metadata": {},
   "outputs": [],
   "source": [
    "fig, ax = plt.subplots(figsize = (25, 10))\n",
    "ax = sns.scatterplot(x=\"mean_pts\", y=\"mean_price\", data=res)"
   ]
  },
  {
   "cell_type": "markdown",
   "metadata": {},
   "source": [
    "Palese la presenza ancora di un trend, anche per quanto riguarda le cantine. Più una cantina ha una media di punteggi migliori, più tende a far pagare le bottiglie, notare come le cantine votate meglio hanno un prezzo più basso rispetto alle altre controparti dai punteggi alti."
   ]
  },
  {
   "cell_type": "markdown",
   "metadata": {},
   "source": [
    "# **Taster \"experience\" analysis** , me gusta, interessante\n",
    "Curioso per quanto riguarda i tasters, rimaneggio un po' i dati per averli in un altro dataframe più comodo per vedere come si comportano dal punto di vista della varietà di vini assaggiati"
   ]
  },
  {
   "cell_type": "code",
   "execution_count": null,
   "metadata": {},
   "outputs": [],
   "source": [
    "testers = data.groupby(\"taster_name\").filter(lambda x: len(x)>0) #> tot perchè così prende i paesi un po' più interessanti visti i numeri\n",
    "print(testers[\"taster_name\"].unique())\n",
    "testerInfo = testers['taster_name'].value_counts().index.tolist()\n",
    "fig, ax = plt.subplots(figsize = (25, 10))\n",
    "sns.countplot(x = testers['taster_name'], order = testerInfo, ax = ax)\n",
    "plt.xticks(rotation = 90)\n",
    "plt.show()"
   ]
  },
  {
   "cell_type": "code",
   "execution_count": null,
   "metadata": {},
   "outputs": [],
   "source": [
    "#togli i taster sconosciuti? \n",
    "reviewers = data[\"taster_name\"].unique().tolist()\n",
    "len(reviewers)\n",
    "countries = data[\"country\"].unique().tolist()"
   ]
  },
  {
   "cell_type": "code",
   "execution_count": null,
   "metadata": {},
   "outputs": [],
   "source": [
    "countriesTasted = []\n",
    "for r in reviewers:\n",
    "    d1 = data[data[\"taster_name\"] == r]\n",
    "    temp = dict(d1[\"country\"].value_counts())\n",
    "    wines = d1[\"variety\"].unique().tolist()\n",
    "    wineries = d1[\"winery\"].unique().tolist()\n",
    "    countriesTasted.append([r,temp,wines,wineries])\n",
    "#countriesTasted\n",
    "stacked = pd.DataFrame(columns = [\"taster\",\"#countries\",\"#varieties\",\"#wineries\"]+countries)\n",
    "for i in range(0,len(countriesTasted)):\n",
    "    stacked.loc[i,\"taster\"] = (countriesTasted[i][0])\n",
    "    stacked.loc[i,\"#countries\"] = len(countriesTasted[i][1])\n",
    "    stacked.loc[i,\"#varieties\"] = len(countriesTasted[i][2])\n",
    "    stacked.loc[i,\"#wineries\"] = len(countriesTasted[i][3])\n",
    "    for c in countriesTasted[i][1]:\n",
    "        stacked.loc[i,c] = countriesTasted[i][1][c]\n",
    "stacked = stacked.fillna(0)\n",
    "stacked\n",
    "#stacked.describe()"
   ]
  },
  {
   "cell_type": "code",
   "execution_count": null,
   "metadata": {},
   "outputs": [],
   "source": [
    "fig, ax = plt.subplots(figsize = (10, 5))\n",
    "ax = sns.distplot(stacked[\"#countries\"])\n",
    "plt.show()"
   ]
  },
  {
   "cell_type": "markdown",
   "metadata": {},
   "source": [
    "su 44 paesi presenti, tutti hanno assaggiato vini provenienti da meno della metà."
   ]
  },
  {
   "cell_type": "code",
   "execution_count": null,
   "metadata": {},
   "outputs": [],
   "source": [
    "fig, ax = plt.subplots(figsize = (10, 5))\n",
    "ax = sns.distplot(stacked[\"#varieties\"])\n",
    "plt.show()"
   ]
  },
  {
   "cell_type": "code",
   "execution_count": null,
   "metadata": {},
   "outputs": [],
   "source": [
    "fig, ax = plt.subplots(figsize = (10, 5))\n",
    "ax = sns.distplot(stacked[\"#wineries\"])\n",
    "plt.show()"
   ]
  },
  {
   "cell_type": "markdown",
   "metadata": {},
   "source": [
    "tanti taster hanno assaggiato vini provenienti da meno di 5 paesi,in media almeno 100 varietà diverse di vino, da generalmente 500 cantine diverse"
   ]
  },
  {
   "cell_type": "code",
   "execution_count": null,
   "metadata": {},
   "outputs": [],
   "source": [
    "t1 = data.groupby([\"taster_name\",\"variety\"])\n",
    "t2 = pd.DataFrame({'mean_pts' : t1[\"points\"].mean(), \"times_reviewed\": t1[\"description\"].count(),\n",
    "                   \"norm_points\": 1 - (t1[\"points\"].mean()/ t1[\"description\"].count())} # norm1: 1/(media voto/count), another norm 1-(media voto/conto totale), da valori vicini a 1 per quelli più alti\n",
    "                 ).reset_index()   #forse è meglio la 1 - ...\n",
    "#res = d1.sort_values([\"reviews_number\",\"mean_pts\"],ascending=False)\n",
    "t2 = t2[t2[\"times_reviewed\"] > 30]\n",
    "final = t2.sort_values([\"times_reviewed\",\"mean_pts\"])#,ascending=False)\n",
    "final"
   ]
  },
  {
   "cell_type": "code",
   "execution_count": null,
   "metadata": {},
   "outputs": [],
   "source": [
    "fig, ax = plt.subplots(figsize = (10, 5))\n",
    "ax = sns.distplot(final[\"times_reviewed\"])\n",
    "plt.show()"
   ]
  },
  {
   "cell_type": "code",
   "execution_count": null,
   "metadata": {},
   "outputs": [],
   "source": [
    "#non contiamo gli unkwnown\n",
    "f1 = final[final[\"taster_name\"] == \"Roger Voss\"]\n",
    "f1"
   ]
  },
  {
   "cell_type": "code",
   "execution_count": null,
   "metadata": {},
   "outputs": [],
   "source": [
    "#based on row data, not normalized based on how many times he reviewed it\n",
    "fig, ax = plt.subplots(figsize = (10, 10))\n",
    "ax = sns.scatterplot(x =\"mean_pts\",y=\"variety\",data=f1)\n",
    "plt.show()\n",
    "#normalized attempt\n",
    "fig, ax = plt.subplots(figsize = (10, 10))\n",
    "ax = sns.scatterplot(x =\"norm_points\",y=\"variety\",data=f1)\n",
    "plt.show()"
   ]
  },
  {
   "cell_type": "code",
   "execution_count": null,
   "metadata": {},
   "outputs": [],
   "source": [
    "#not normalized another author\n",
    "f2 = final[final[\"taster_name\"] == \"Kerin O’Keefe\"]\n",
    "fig, ax = plt.subplots(figsize = (10, 10))\n",
    "ax = sns.scatterplot(x =\"mean_pts\",y=\"variety\",data=f2)\n",
    "plt.show()\n",
    "fig, ax = plt.subplots(figsize = (10, 10))\n",
    "ax = sns.scatterplot(x =\"norm_points\",y=\"variety\",data=f2)\n",
    "plt.show()"
   ]
  },
  {
   "cell_type": "code",
   "execution_count": null,
   "metadata": {},
   "outputs": [],
   "source": [
    "#testers = data.groupby([\"taster_name\",\"country\"])\n",
    "#for name,group in testers:\n",
    "#    print(name)\n",
    "#    print(len(group))"
   ]
  },
  {
   "cell_type": "markdown",
   "metadata": {},
   "source": [
    "Potrebbero esserci \"bias\" o comunque preferenze dei vini da parte di persone che hanno assaggiato vini provenienti da meno paesi? cioè se uno ha provato vini statunitensi e basta magari ha assegnato un voto più alto di quello che uno che ha assaggiato 203020 vini da paesi diversi perchè magari non ha idea di cosa voglia dire\n",
    "\n",
    "magari da provare a comparare i punteggi sugli stessi vini fra personaggi diversi"
   ]
  },
  {
   "cell_type": "markdown",
   "metadata": {},
   "source": [
    "controlla anche le cose della designation \"designationThe vineyard within the winery where the grapes that made the wine are from\""
   ]
  },
  {
   "cell_type": "code",
   "execution_count": null,
   "metadata": {},
   "outputs": [],
   "source": [
    "\"\"\"\n",
    "desig = data.groupby([\"designation\"])\n",
    "desig[\"designation\"].count()\n",
    "\"\"\"\n"
   ]
  },
  {
   "cell_type": "code",
   "execution_count": null,
   "metadata": {},
   "outputs": [],
   "source": [
    "revs = data.groupby([\"title\"]).filter(lambda x: len(x) >= 2)\n",
    "len(revs)"
   ]
  },
  {
   "cell_type": "markdown",
   "metadata": {},
   "source": [
    "-- La grandissima maggioranza delle recensioni è \"singola\", solo una persona ha assaggiato e ha dato il voto? o dups?"
   ]
  },
  {
   "cell_type": "code",
   "execution_count": null,
   "metadata": {},
   "outputs": [],
   "source": [
    "#revs.groupby([\"title\"]).groups\n",
    "#pd.DataFrame({'count' : revs.groupby([ \"title\"] ).size(),\"mean\":5}).reset_index()\n"
   ]
  },
  {
   "cell_type": "code",
   "execution_count": null,
   "metadata": {},
   "outputs": [],
   "source": [
    "singleTitleExample = revs[revs[\"winery\"] == \"Gloria Ferrer\"]\n",
    "singleTitleExample[\"title\"].unique()"
   ]
  },
  {
   "cell_type": "code",
   "execution_count": null,
   "metadata": {},
   "outputs": [],
   "source": [
    "#singleTitleExample[\"taster_name\"].unique()"
   ]
  },
  {
   "cell_type": "code",
   "execution_count": null,
   "metadata": {},
   "outputs": [],
   "source": [
    "#ex1 = revs[revs[\"title\"] == \"Roland Champion NV Brut Rosé  (Champagne)\"]\n",
    "#ex1"
   ]
  },
  {
   "cell_type": "code",
   "execution_count": null,
   "metadata": {},
   "outputs": [],
   "source": [
    "#ex1 = revs[revs[\"title\"] == \"Ferrari-Carano 2014 Siena Red (Sonoma County)\"]\n",
    "#ex1"
   ]
  },
  {
   "cell_type": "code",
   "execution_count": null,
   "metadata": {},
   "outputs": [],
   "source": [
    "#ex1 = revs[revs[\"title\"] == \"Liebart-Régnier NV Brut  (Champagne)\"]\n",
    "#ex1 "
   ]
  },
  {
   "cell_type": "markdown",
   "metadata": {},
   "source": [
    "Stessi reviewer due descrizioni diverse, con voti diversi, sullo stesso titolo, ma con prezzi diversi? Wot? Sempre un problema che molti reviewer sono senza nome"
   ]
  },
  {
   "cell_type": "markdown",
   "metadata": {},
   "source": [
    "# analisi veloce delle recensioni senza nome\n",
    "non so se tenerle o meno"
   ]
  },
  {
   "cell_type": "code",
   "execution_count": null,
   "metadata": {},
   "outputs": [],
   "source": [
    "unknown = data[data[\"taster_name\"] == \"unknown\"]\n",
    "len(unknown)"
   ]
  },
  {
   "cell_type": "code",
   "execution_count": null,
   "metadata": {},
   "outputs": [],
   "source": [
    "data2 = unknown[[\"Country_Code\",\"Province_Code\",\"price\",\"points\",\"Variety_Code\",\"Winery_Code\",\"Desig_Code\"]]\n",
    "corr = data2.corr()\n",
    "plt.subplots(figsize =(14, 12))\n",
    "\n",
    "# plot the heatmap\n",
    "sns.heatmap(corr, \n",
    "        xticklabels=corr.columns,\n",
    "        yticklabels=corr.columns,annot=True)\n",
    "plt.xticks(rotation = 0)\n",
    "plt.yticks(rotation = 0)"
   ]
  },
  {
   "cell_type": "markdown",
   "metadata": {},
   "source": [
    "le correlazioni sono più alte"
   ]
  },
  {
   "cell_type": "code",
   "execution_count": null,
   "metadata": {},
   "outputs": [],
   "source": [
    "country = unknown.groupby(\"country\").filter(lambda x: len(x)>100) #> tot perchè così prende i paesi un po' più interessanti visti i numeri\n",
    "countryInfo = country['country'].value_counts().index.tolist()\n",
    "fig, ax = plt.subplots(figsize = (10, 10))\n",
    "sns.countplot(x = country['country'], order = countryInfo, ax = ax)\n",
    "plt.xticks(rotation = 90)\n",
    "plt.show()\n"
   ]
  },
  {
   "cell_type": "markdown",
   "metadata": {},
   "source": [
    "recensioni fatte solo per quanto riguarda usa, italia, australia, francia e chile. 24 mila"
   ]
  },
  {
   "cell_type": "code",
   "execution_count": null,
   "metadata": {},
   "outputs": [],
   "source": [
    "fig, ax = plt.subplots(figsize = (10, 5))\n",
    "ax = sns.boxplot(x=\"country\", y=\"points\", data=country)"
   ]
  },
  {
   "cell_type": "code",
   "execution_count": null,
   "metadata": {},
   "outputs": [],
   "source": []
  }
 ],
 "metadata": {
  "kernelspec": {
   "display_name": "Python 3",
   "language": "python",
   "name": "python3"
  },
  "language_info": {
   "codemirror_mode": {
    "name": "ipython",
    "version": 3
   },
   "file_extension": ".py",
   "mimetype": "text/x-python",
   "name": "python",
   "nbconvert_exporter": "python",
   "pygments_lexer": "ipython3",
   "version": "3.6.4"
  }
 },
 "nbformat": 4,
 "nbformat_minor": 2
}
